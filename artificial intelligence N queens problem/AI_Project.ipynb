{
 "cells": [
  {
   "cell_type": "markdown",
   "metadata": {
    "tags": []
   },
   "source": [
    "# AI PA5: CSP\n",
    "**Group members:**\n",
    "\n",
    "- Muratcan Erek\n",
    "\n",
    "\n",
    "**Readme**\n",
    "\n",
    "Python version: 3.9 , Development Environment: pycharm community edition 2021 2.2.\n",
    "But transferred online editor jupyterlab compiler.\n",
    "\n",
    "--- For backtracking algorithms,\n",
    "\n",
    "   **It can be change iteration number for min_conflict**\n",
    "    \n",
    "\n",
    "## Part 5: Class definition\n",
    "\n"
   ]
  },
  {
   "cell_type": "code",
   "execution_count": 1,
   "metadata": {},
   "outputs": [
    {
     "name": "stdout",
     "output_type": "stream",
     "text": [
      "Enter N number ? \n",
      "11\n",
      "{0: 1, 1: 3, 2: 5, 3: 7, 4: 9, 5: 11, 6: 2, 7: 4, 8: 6, 9: 8, 10: 10} | Time:  0.19991\n",
      "{0: 1, 2: 2, 4: 3, 6: 4, 9: 11, 1: 7, 3: 8, 5: 9, 7: 10, 8: 5, 10: 6} | Time:  0.04691\n",
      "{0: 1, 1: 3, 2: 5, 3: 7, 4: 9, 5: 11, 6: 2, 7: 4, 8: 6, 9: 8, 10: 10} | Time:  0.06245\n",
      "{0: 1, 1: 3, 2: 5, 3: 7, 4: 9, 5: 11, 6: 2, 7: 4, 8: 6, 9: 8, 10: 10} | Time:  0.04690\n",
      "{0: 1, 2: 2, 4: 3, 6: 4, 9: 11, 1: 7, 3: 8, 5: 9, 7: 10, 8: 5, 10: 6} | Time:  0.04686\n",
      "{0: 1, 1: 3, 2: 5, 3: 7, 4: 9, 5: 11, 6: 2, 7: 4, 8: 6, 9: 8, 10: 10} | Time:  0.06244\n",
      "{0: 6, 1: 8, 2: 10, 3: 1, 4: 4, 5: 9, 6: 7, 7: 3, 8: 11, 9: 2, 10: 5} | Time:  0.03781\n"
     ]
    }
   ],
   "source": [
    "from __future__ import print_function\n",
    "\n",
    "from simpleai.search import CspProblem, backtrack, min_conflicts, MOST_CONSTRAINED_VARIABLE, HIGHEST_DEGREE_VARIABLE, LEAST_CONSTRAINING_VALUE\n",
    "import time\n",
    "\n",
    "print(\"Enter N number ? \")\n",
    "n = int(input())\n",
    "Temp = []  # for variables\n",
    "Temp2 = []  # for domains\n",
    "for i in range(n):\n",
    "    Temp.append(int(i))\n",
    "    Temp2.append(int(i+1))\n",
    "\n",
    "variables = Temp\n",
    "\n",
    "domains = dict((state, list(Temp2)) for state in Temp)\n",
    "\n",
    "\n",
    "\n",
    "def const_state(variables, values):\n",
    "\n",
    "    distance = abs(int(variables[0]) - int(variables[1]))\n",
    "    diff_value = abs(int(values[0]) - int(values[1]))\n",
    "    if (distance != diff_value):  # cross state\n",
    "        return values[0] != values[1]  # side-by-side states\n",
    "\n",
    "def createPair(n):  # keeps all binary states as tuples\n",
    "\n",
    "    number = int((n-1)*n/2)\n",
    "    tempArray = [[0 for x in range(2)] for y in range(number)]\n",
    "    count = 0\n",
    "    for i in range(n-1):\n",
    "        for a in range(i+1,n):\n",
    "            for y in range(2):\n",
    "                if y == 0:\n",
    "                    tempArray[count][y] = int(i)\n",
    "                else:\n",
    "                    tempArray[count][y] = int(a)\n",
    "            count += 1\n",
    "    tuples = tuple(map(tuple, tempArray))\n",
    "\n",
    "    return tuples\n",
    "\n",
    "\n",
    "def const(n):\n",
    "    number = int((n - 1) * n / 2)  # n.(n+1)/2 Pair Number\n",
    "    getTuple = createPair(n)\n",
    "    listDict = [(getTuple[i], const_state) for i in range(number)]\n",
    "    return listDict\n",
    "\n",
    "my_problem = CspProblem(variables, domains, const(n))\n",
    "t1 = 0\n",
    "\n",
    "t1 = time.time()\n",
    "print(f\"{backtrack(my_problem)} | Time:  {(time.time() - t1):.5f}\")\n",
    "t1 = time.time()\n",
    "print(f\"{backtrack(my_problem, variable_heuristic=MOST_CONSTRAINED_VARIABLE)} | Time:  {(time.time() - t1):.5f}\")\n",
    "t1 = time.time()\n",
    "print(f\"{backtrack(my_problem, variable_heuristic=HIGHEST_DEGREE_VARIABLE)} | Time:  {(time.time() - t1):.5f}\")\n",
    "t1 = time.time()\n",
    "print(f\"{backtrack(my_problem, value_heuristic=LEAST_CONSTRAINING_VALUE)} | Time:  {(time.time() - t1):.5f}\")\n",
    "t1 = time.time()\n",
    "print(f\"{backtrack(my_problem, variable_heuristic=MOST_CONSTRAINED_VARIABLE, value_heuristic=LEAST_CONSTRAINING_VALUE)} | Time:  {(time.time() - t1):.5f}\")\n",
    "t1 = time.time()\n",
    "print(f\"{backtrack(my_problem, variable_heuristic=HIGHEST_DEGREE_VARIABLE, value_heuristic=LEAST_CONSTRAINING_VALUE)} | Time:  {(time.time() - t1):.5f}\")\n",
    "t1 = time.time()\n",
    "print(f\"{min_conflicts(my_problem, iterations_limit= 4000)} | Time:  {(time.time() - t1):.5f}\")\n",
    "\n",
    "\n",
    "\n",
    "\n",
    "\n",
    "\n",
    "\n"
   ]
  },
  {
   "cell_type": "code",
   "execution_count": null,
   "metadata": {},
   "outputs": [],
   "source": []
  }
 ],
 "metadata": {
  "interpreter": {
   "hash": "e922dd073470bdcc017ae3abd31d6491d6ed7bf31c1d559806e5511bfea88b81"
  },
  "kernelspec": {
   "display_name": "Python 3",
   "language": "python",
   "name": "python3"
  },
  "language_info": {
   "codemirror_mode": {
    "name": "ipython",
    "version": 3
   },
   "file_extension": ".py",
   "mimetype": "text/x-python",
   "name": "python",
   "nbconvert_exporter": "python",
   "pygments_lexer": "ipython3",
   "version": "3.8.8"
  }
 },
 "nbformat": 4,
 "nbformat_minor": 4
}
